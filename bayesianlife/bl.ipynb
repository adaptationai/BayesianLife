{
 "cells": [
  {
   "cell_type": "code",
   "execution_count": 1,
   "metadata": {},
   "outputs": [],
   "source": [
    "from sqlalchemy import create_engine, Column, Integer, String, Boolean\n",
    "from sqlalchemy.orm import declarative_base, sessionmaker\n",
    "\n",
    "Base = declarative_base()\n",
    "\n",
    "# Define a model for the table\n",
    "class UserInput(Base):\n",
    "    __tablename__ = 'user_input'\n",
    "    \n",
    "    id = Column(Integer, primary_key=True)\n",
    "    selected_date = Column(String, unique=True)  # Ensure date is unique\n",
    "    broth = Column(Boolean)\n",
    "    kavas = Column(Boolean)\n",
    "    submitted = Column(Boolean, default=False)\n",
    "\n",
    "# Create an SQLite database and the table\n",
    "engine = create_engine('sqlite:///bayesian_life.db')\n",
    "Base.metadata.create_all(engine)\n",
    "Session = sessionmaker(bind=engine)\n",
    "\n"
   ]
  },
  {
   "cell_type": "code",
   "execution_count": 3,
   "metadata": {},
   "outputs": [
    {
     "name": "stderr",
     "output_type": "stream",
     "text": [
      "2023-10-19 16:52:23.047 \n",
      "  \u001b[33m\u001b[1mWarning:\u001b[0m to view this Streamlit app on a browser, run it with the following\n",
      "  command:\n",
      "\n",
      "    streamlit run c:\\Users\\Adaptation\\.conda\\envs\\BayesianLife\\Lib\\site-packages\\ipykernel_launcher.py [ARGUMENTS]\n"
     ]
    }
   ],
   "source": [
    "import streamlit as st\n",
    "from datetime import date\n",
    "\n",
    "\n",
    "class BayesianLifeApp:\n",
    "\n",
    "    def __init__(self):\n",
    "        st.title(\"Bayesian Life\")\n",
    "\n",
    "        # Collect inputs from user\n",
    "        selected_date = st.text_input(\"Select Date (YYYY-MM-DD)\", value=date.today().strftime(\"%Y-%m-%d\"))\n",
    "        broth = st.checkbox(\"Broth\")\n",
    "        kavas = st.checkbox(\"Kavas\")\n",
    "        resubmit = st.checkbox(\"Resubmit\")\n",
    "\n",
    "        if st.button(\"Submit\"):\n",
    "            result = self.bayesian_life(selected_date, broth, kavas, resubmit)\n",
    "            st.text(result)\n",
    "\n",
    "    def bayesian_life(self, selected_date, broth, kavas, resubmit=False):\n",
    "        session = Session()\n",
    "\n",
    "        # Check if there's already an entry for the given date\n",
    "        existing_entry = session.query(UserInput).filter_by(selected_date=selected_date).first()\n",
    "\n",
    "        if existing_entry and existing_entry.submitted and not resubmit:\n",
    "            session.close()\n",
    "            return \"Already submitted for this date. Would you like to resubmit?\"\n",
    "\n",
    "        if existing_entry and resubmit:\n",
    "            # Update the existing entry\n",
    "            existing_entry.broth = broth\n",
    "            existing_entry.kavas = kavas\n",
    "            existing_entry.submitted = True\n",
    "        else:\n",
    "            # Insert a new entry\n",
    "            new_input = UserInput(selected_date=selected_date, broth=broth, kavas=kavas, submitted=True)\n",
    "            session.add(new_input)\n",
    "\n",
    "        session.commit()\n",
    "        session.close()\n",
    "\n",
    "        return \"Your data has been submitted successfully!\"\n",
    "\n",
    "# Create an instance of the app and run it\n",
    "if __name__ == \"__main__\":\n",
    "    app = BayesianLifeApp()\n"
   ]
  },
  {
   "cell_type": "code",
   "execution_count": 4,
   "metadata": {},
   "outputs": [
    {
     "name": "stdout",
     "output_type": "stream",
     "text": [
      "^C\n"
     ]
    }
   ],
   "source": [
    "!streamlit run c:\\Users\\Adaptation\\.conda\\envs\\BayesianLife\\Lib\\site-packages\\ipykernel_launcher.py\n"
   ]
  },
  {
   "cell_type": "code",
   "execution_count": 2,
   "metadata": {},
   "outputs": [
    {
     "name": "stderr",
     "output_type": "stream",
     "text": [
      "c:\\Users\\Adaptation\\.conda\\envs\\BayesianLife\\Lib\\site-packages\\tqdm\\auto.py:21: TqdmWarning: IProgress not found. Please update jupyter and ipywidgets. See https://ipywidgets.readthedocs.io/en/stable/user_install.html\n",
      "  from .autonotebook import tqdm as notebook_tqdm\n",
      "C:\\Users\\Adaptation\\AppData\\Local\\Temp\\ipykernel_18036\\3173902626.py:33: GradioDeprecationWarning: Usage of gradio.inputs is deprecated, and will not be supported in the future, please import your component from gradio.components\n",
      "  gr.inputs.Textbox(label=\"Select Date (YYYY-MM-DD)\", default=date.today().strftime(\"%Y-%m-%d\")),\n",
      "C:\\Users\\Adaptation\\AppData\\Local\\Temp\\ipykernel_18036\\3173902626.py:33: GradioDeprecationWarning: `optional` parameter is deprecated, and it has no effect\n",
      "  gr.inputs.Textbox(label=\"Select Date (YYYY-MM-DD)\", default=date.today().strftime(\"%Y-%m-%d\")),\n",
      "C:\\Users\\Adaptation\\AppData\\Local\\Temp\\ipykernel_18036\\3173902626.py:33: GradioDeprecationWarning: `numeric` parameter is deprecated, and it has no effect\n",
      "  gr.inputs.Textbox(label=\"Select Date (YYYY-MM-DD)\", default=date.today().strftime(\"%Y-%m-%d\")),\n",
      "C:\\Users\\Adaptation\\AppData\\Local\\Temp\\ipykernel_18036\\3173902626.py:34: GradioDeprecationWarning: Usage of gradio.inputs is deprecated, and will not be supported in the future, please import your component from gradio.components\n",
      "  gr.inputs.Checkbox(label=\"Broth\"),\n",
      "C:\\Users\\Adaptation\\AppData\\Local\\Temp\\ipykernel_18036\\3173902626.py:34: GradioDeprecationWarning: `optional` parameter is deprecated, and it has no effect\n",
      "  gr.inputs.Checkbox(label=\"Broth\"),\n",
      "C:\\Users\\Adaptation\\AppData\\Local\\Temp\\ipykernel_18036\\3173902626.py:35: GradioDeprecationWarning: Usage of gradio.inputs is deprecated, and will not be supported in the future, please import your component from gradio.components\n",
      "  gr.inputs.Checkbox(label=\"Kavas\"),\n",
      "C:\\Users\\Adaptation\\AppData\\Local\\Temp\\ipykernel_18036\\3173902626.py:35: GradioDeprecationWarning: `optional` parameter is deprecated, and it has no effect\n",
      "  gr.inputs.Checkbox(label=\"Kavas\"),\n",
      "C:\\Users\\Adaptation\\AppData\\Local\\Temp\\ipykernel_18036\\3173902626.py:36: GradioDeprecationWarning: Usage of gradio.inputs is deprecated, and will not be supported in the future, please import your component from gradio.components\n",
      "  gr.inputs.Checkbox(label=\"Resubmit\", default=False)\n",
      "C:\\Users\\Adaptation\\AppData\\Local\\Temp\\ipykernel_18036\\3173902626.py:36: GradioDeprecationWarning: `optional` parameter is deprecated, and it has no effect\n",
      "  gr.inputs.Checkbox(label=\"Resubmit\", default=False)\n"
     ]
    },
    {
     "name": "stdout",
     "output_type": "stream",
     "text": [
      "Running on local URL:  http://192.168.0.51:7860\n",
      "\n",
      "To create a public link, set `share=True` in `launch()`.\n"
     ]
    },
    {
     "data": {
      "text/html": [
       "<div><iframe src=\"http://192.168.0.51:7860/\" width=\"100%\" height=\"500\" allow=\"autoplay; camera; microphone; clipboard-read; clipboard-write;\" frameborder=\"0\" allowfullscreen></iframe></div>"
      ],
      "text/plain": [
       "<IPython.core.display.HTML object>"
      ]
     },
     "metadata": {},
     "output_type": "display_data"
    }
   ],
   "source": [
    "import gradio as gr\n",
    "from gradio.components import Textbox, Checkbox\n",
    "from datetime import date\n",
    "\n",
    "class BayesianLifeApp:\n",
    "\n",
    "    def __init__(self):\n",
    "        # Define the function that the interface will call\n",
    "        def bayesian_life(selected_date, broth, kavas, resubmit=False):\n",
    "            session = Session()\n",
    "\n",
    "            # Check if there's already an entry for the given date\n",
    "            existing_entry = session.query(UserInput).filter_by(selected_date=selected_date).first()\n",
    "\n",
    "            if existing_entry and existing_entry.submitted and not resubmit:\n",
    "                session.close()\n",
    "                return \"Already submitted for this date. Would you like to resubmit?\"\n",
    "\n",
    "            if existing_entry and resubmit:\n",
    "                # Update the existing entry\n",
    "                existing_entry.broth = broth\n",
    "                existing_entry.kavas = kavas\n",
    "                existing_entry.submitted = True\n",
    "            else:\n",
    "                # Insert a new entry\n",
    "                new_input = UserInput(selected_date=selected_date, broth=broth, kavas=kavas, submitted=True)\n",
    "                session.add(new_input)\n",
    "\n",
    "            session.commit()\n",
    "            session.close()\n",
    "            \n",
    "            return \"Your data has been submitted successfully!\"\n",
    "\n",
    "        # Define the Gradio interface\n",
    "        self.interface = gr.Interface(\n",
    "            fn=bayesian_life,\n",
    "            inputs=[\n",
    "                Textbox(label=\"Select Date (YYYY-MM-DD)\", value=date.today().strftime(\"%Y-%m-%d\")),\n",
    "                Checkbox(label=\"Broth\"),\n",
    "                Checkbox(label=\"Kavas\"),\n",
    "                Checkbox(label=\"Resubmit\", value=False)\n",
    "            ],\n",
    "            outputs=\"text\",\n",
    "            title=\"Bayesian Life\"\n",
    "        )\n",
    "\n",
    "    def run(self):\n",
    "        # Launch the Gradio app\n",
    "        self.interface.launch(server_name='192.168.0.51')\n",
    "\n",
    "# Create an instance of the app and run it\n",
    "app = BayesianLifeApp()\n",
    "app.run()\n"
   ]
  },
  {
   "cell_type": "code",
   "execution_count": 1,
   "metadata": {},
   "outputs": [
    {
     "name": "stdout",
     "output_type": "stream",
     "text": [
      "14fb8077481fa48aa86d2cb7c2f948eae410dda5a322ef7d38f5911efd5a6707\n"
     ]
    }
   ],
   "source": [
    "import hashlib\n",
    "\n",
    "password = \"Wog19881992Rp:\"\n",
    "hashed_pw = hashlib.sha256(password.encode()).hexdigest()\n",
    "print(hashed_pw)"
   ]
  },
  {
   "cell_type": "code",
   "execution_count": 4,
   "metadata": {},
   "outputs": [
    {
     "name": "stderr",
     "output_type": "stream",
     "text": [
      "c:\\Users\\Adaptation\\.conda\\envs\\BayesianLife\\Lib\\site-packages\\tqdm\\auto.py:21: TqdmWarning: IProgress not found. Please update jupyter and ipywidgets. See https://ipywidgets.readthedocs.io/en/stable/user_install.html\n",
      "  from .autonotebook import tqdm as notebook_tqdm\n",
      "C:\\Users\\Adaptation\\AppData\\Local\\Temp\\ipykernel_26224\\753551001.py:36: GradioDeprecationWarning: `optional` parameter is deprecated, and it has no effect\n",
      "  gr.Textbox(label=\"Start Date (YYYY-MM-DD)\", optional=True),\n",
      "C:\\Users\\Adaptation\\AppData\\Local\\Temp\\ipykernel_26224\\753551001.py:37: GradioDeprecationWarning: `optional` parameter is deprecated, and it has no effect\n",
      "  gr.Textbox(label=\"End Date (YYYY-MM-DD)\", optional=True),\n",
      "C:\\Users\\Adaptation\\AppData\\Local\\Temp\\ipykernel_26224\\753551001.py:40: GradioUnusedKwargWarning: You have unused kwarg parameters in Textbox, please remove them: {'default': 'bayesian_life_data.csv'}\n",
      "  gr.Textbox(label=\"CSV Filename\", default=\"bayesian_life_data.csv\")\n"
     ]
    },
    {
     "name": "stdout",
     "output_type": "stream",
     "text": [
      "Running on local URL:  http://127.0.0.1:7860\n",
      "\n",
      "To create a public link, set `share=True` in `launch()`.\n"
     ]
    },
    {
     "data": {
      "text/html": [
       "<div><iframe src=\"http://127.0.0.1:7860/\" width=\"100%\" height=\"500\" allow=\"autoplay; camera; microphone; clipboard-read; clipboard-write;\" frameborder=\"0\" allowfullscreen></iframe></div>"
      ],
      "text/plain": [
       "<IPython.core.display.HTML object>"
      ]
     },
     "metadata": {},
     "output_type": "display_data"
    },
    {
     "name": "stderr",
     "output_type": "stream",
     "text": [
      "Traceback (most recent call last):\n",
      "  File \"c:\\Users\\Adaptation\\.conda\\envs\\BayesianLife\\Lib\\site-packages\\gradio\\routes.py\", line 534, in predict\n",
      "    output = await route_utils.call_process_api(\n",
      "             ^^^^^^^^^^^^^^^^^^^^^^^^^^^^^^^^^^^\n",
      "  File \"c:\\Users\\Adaptation\\.conda\\envs\\BayesianLife\\Lib\\site-packages\\gradio\\route_utils.py\", line 226, in call_process_api\n",
      "    output = await app.get_blocks().process_api(\n",
      "             ^^^^^^^^^^^^^^^^^^^^^^^^^^^^^^^^^^^\n",
      "  File \"c:\\Users\\Adaptation\\.conda\\envs\\BayesianLife\\Lib\\site-packages\\gradio\\blocks.py\", line 1550, in process_api\n",
      "    result = await self.call_function(\n",
      "             ^^^^^^^^^^^^^^^^^^^^^^^^^\n",
      "  File \"c:\\Users\\Adaptation\\.conda\\envs\\BayesianLife\\Lib\\site-packages\\gradio\\blocks.py\", line 1185, in call_function\n",
      "    prediction = await anyio.to_thread.run_sync(\n",
      "                 ^^^^^^^^^^^^^^^^^^^^^^^^^^^^^^^\n",
      "  File \"c:\\Users\\Adaptation\\.conda\\envs\\BayesianLife\\Lib\\site-packages\\anyio\\to_thread.py\", line 33, in run_sync\n",
      "    return await get_asynclib().run_sync_in_worker_thread(\n",
      "           ^^^^^^^^^^^^^^^^^^^^^^^^^^^^^^^^^^^^^^^^^^^^^^^\n",
      "  File \"c:\\Users\\Adaptation\\.conda\\envs\\BayesianLife\\Lib\\site-packages\\anyio\\_backends\\_asyncio.py\", line 877, in run_sync_in_worker_thread\n",
      "    return await future\n",
      "           ^^^^^^^^^^^^\n",
      "  File \"c:\\Users\\Adaptation\\.conda\\envs\\BayesianLife\\Lib\\site-packages\\anyio\\_backends\\_asyncio.py\", line 807, in run\n",
      "    result = context.run(func, *args)\n",
      "             ^^^^^^^^^^^^^^^^^^^^^^^^\n",
      "  File \"c:\\Users\\Adaptation\\.conda\\envs\\BayesianLife\\Lib\\site-packages\\gradio\\utils.py\", line 661, in wrapper\n",
      "    response = f(*args, **kwargs)\n",
      "               ^^^^^^^^^^^^^^^^^^\n",
      "  File \"C:\\Users\\Adaptation\\AppData\\Local\\Temp\\ipykernel_26224\\753551001.py\", line 14, in fetch_and_save\n",
      "    query = session.query(UserInput)\n",
      "                          ^^^^^^^^^\n",
      "NameError: name 'UserInput' is not defined\n"
     ]
    }
   ],
   "source": [
    "import gradio as gr\n",
    "import pandas as pd\n",
    "from sqlalchemy.orm import sessionmaker\n",
    "from sqlalchemy import create_engine\n",
    "\n",
    "class BayesianLifeDataApp:\n",
    "\n",
    "    def __init__(self):\n",
    "        \n",
    "        def fetch_and_save(start_date=None, end_date=None, fetch_all=False, save_csv=False, csv_filename=\"bayesian_life_data.csv\"):\n",
    "            session = Session()\n",
    "\n",
    "            # Get data from the database\n",
    "            query = session.query(UserInput)\n",
    "            \n",
    "            if not fetch_all:\n",
    "                if start_date:\n",
    "                    query = query.filter(UserInput.selected_date >= start_date)\n",
    "                if end_date:\n",
    "                    query = query.filter(UserInput.selected_date <= end_date)\n",
    "\n",
    "            df = pd.read_sql(query.statement, query.session.bind)\n",
    "            \n",
    "            session.close()\n",
    "\n",
    "            # Save dataframe as CSV if required\n",
    "            if save_csv:\n",
    "                df.to_csv(csv_filename, index=False)\n",
    "\n",
    "            return f\"Data fetched successfully! Saved to {csv_filename}\", df\n",
    "\n",
    "        # Define the Gradio interface\n",
    "        self.interface = gr.Interface(\n",
    "            fn=fetch_and_save,\n",
    "            inputs=[\n",
    "                gr.Textbox(label=\"Start Date (YYYY-MM-DD)\", optional=True),\n",
    "                gr.Textbox(label=\"End Date (YYYY-MM-DD)\", optional=True),\n",
    "                gr.Checkbox(label=\"Fetch All Data\"),\n",
    "                gr.Checkbox(label=\"Save as CSV\"),\n",
    "                gr.Textbox(label=\"CSV Filename\", default=\"bayesian_life_data.csv\")\n",
    "            ],\n",
    "            outputs=[\n",
    "                \"text\",\n",
    "                gr.Dataframe(type=\"pandas\")\n",
    "            ],\n",
    "            title=\"Bayesian Life Data\"\n",
    "        )\n",
    "\n",
    "    def run(self):\n",
    "        # Launch the Gradio app\n",
    "        self.interface.launch()\n",
    "\n",
    "# Create the SQLite database connection\n",
    "engine = create_engine('sqlite:///bayesian_life.db')\n",
    "Session = sessionmaker(bind=engine)\n",
    "\n",
    "# Create an instance of the app and run it\n",
    "app = BayesianLifeDataApp()\n",
    "app.run()\n"
   ]
  },
  {
   "cell_type": "code",
   "execution_count": null,
   "metadata": {},
   "outputs": [],
   "source": [
    "dir(gr.inputs)\n"
   ]
  },
  {
   "cell_type": "code",
   "execution_count": 3,
   "metadata": {},
   "outputs": [
    {
     "data": {
      "text/plain": [
       "['$2b$12$W/ECJdQ88TSSx0yVdGL/B.7Bv2j8zBs.RKH/yyq4YZuIjivZuY13u']"
      ]
     },
     "execution_count": 3,
     "metadata": {},
     "output_type": "execute_result"
    }
   ],
   "source": [
    "import streamlit_authenticator as stauth\n",
    "\n",
    "hashed_passwords = stauth.Hasher(['Wog19881992Rp:']).generate()\n",
    "hashed_passwords"
   ]
  }
 ],
 "metadata": {
  "kernelspec": {
   "display_name": "BayesianLife",
   "language": "python",
   "name": "python3"
  },
  "language_info": {
   "codemirror_mode": {
    "name": "ipython",
    "version": 3
   },
   "file_extension": ".py",
   "mimetype": "text/x-python",
   "name": "python",
   "nbconvert_exporter": "python",
   "pygments_lexer": "ipython3",
   "version": "3.11.5"
  }
 },
 "nbformat": 4,
 "nbformat_minor": 2
}
